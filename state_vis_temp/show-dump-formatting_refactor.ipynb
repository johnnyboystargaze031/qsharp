{
 "cells": [
  {
   "cell_type": "code",
   "execution_count": 1,
   "metadata": {},
   "outputs": [
    {
     "data": {
      "application/javascript": "// Copyright (c) Microsoft Corporation.\n// Licensed under the MIT License.\n\n// This file provides CodeMirror syntax highlighting for Q# magic cells\n// in classic Jupyter Notebooks. It does nothing in other (Jupyter Notebook 7,\n// VS Code, Azure Notebooks, etc.) environments.\n\n// Detect the prerequisites and do nothing if they don't exist.\nif (window.require && window.CodeMirror && window.Jupyter) {\n  // The simple mode plugin for CodeMirror is not loaded by default, so require it.\n  window.require([\"codemirror/addon/mode/simple\"], function defineMode() {\n    let rules = [\n      {\n        token: \"comment\",\n        regex: /(\\/\\/).*/,\n        beginWord: false,\n      },\n      {\n        token: \"string\",\n        regex: String.raw`^\\\"(?:[^\\\"\\\\]|\\\\[\\s\\S])*(?:\\\"|$)`,\n        beginWord: false,\n      },\n      {\n        token: \"keyword\",\n        regex: String.raw`(namespace|open|as|operation|function|body|adjoint|newtype|controlled|internal)\\b`,\n        beginWord: true,\n      },\n      {\n        token: \"keyword\",\n        regex: String.raw`(if|elif|else|repeat|until|fixup|for|in|return|fail|within|apply)\\b`,\n        beginWord: true,\n      },\n      {\n        token: \"keyword\",\n        regex: String.raw`(Adjoint|Controlled|Adj|Ctl|is|self|auto|distribute|invert|intrinsic)\\b`,\n        beginWord: true,\n      },\n      {\n        token: \"keyword\",\n        regex: String.raw`(let|set|use|borrow|mutable)\\b`,\n        beginWord: true,\n      },\n      {\n        token: \"operatorKeyword\",\n        regex: String.raw`(not|and|or)\\b|(w/)`,\n        beginWord: true,\n      },\n      {\n        token: \"operatorKeyword\",\n        regex: String.raw`(=)|(!)|(<)|(>)|(\\+)|(-)|(\\*)|(/)|(\\^)|(%)|(\\|)|(&&&)|(~~~)|(\\.\\.\\.)|(\\.\\.)|(\\?)`,\n        beginWord: false,\n      },\n      {\n        token: \"meta\",\n        regex: String.raw`(Int|BigInt|Double|Bool|Qubit|Pauli|Result|Range|String|Unit)\\b`,\n        beginWord: true,\n      },\n      {\n        token: \"atom\",\n        regex: String.raw`(true|false|Pauli(I|X|Y|Z)|One|Zero)\\b`,\n        beginWord: true,\n      },\n    ];\n    let simpleRules = [];\n    for (let rule of rules) {\n      simpleRules.push({\n        token: rule.token,\n        regex: new RegExp(rule.regex, \"g\"),\n        sol: rule.beginWord,\n      });\n      if (rule.beginWord) {\n        // Need an additional rule due to the fact that CodeMirror simple mode doesn't work with ^ token\n        simpleRules.push({\n          token: rule.token,\n          regex: new RegExp(String.raw`\\W` + rule.regex, \"g\"),\n          sol: false,\n        });\n      }\n    }\n\n    // Register the mode defined above with CodeMirror\n    window.CodeMirror.defineSimpleMode(\"qsharp\", { start: simpleRules });\n    window.CodeMirror.defineMIME(\"text/x-qsharp\", \"qsharp\");\n\n    // Tell Jupyter to associate %%qsharp magic cells with the qsharp mode\n    window.Jupyter.CodeCell.options_default.highlight_modes[\"qsharp\"] = {\n      reg: [/^%%qsharp/],\n    };\n\n    // Force re-highlighting of all cells the first time this code runs\n    for (const cell of window.Jupyter.notebook.get_cells()) {\n      cell.auto_highlight();\n    }\n  });\n}\n",
      "text/plain": []
     },
     "metadata": {},
     "output_type": "display_data"
    }
   ],
   "source": [
    "import qsharp\n",
    "from IPython.display import Latex\n",
    "import math"
   ]
  },
  {
   "cell_type": "code",
   "execution_count": 2,
   "metadata": {},
   "outputs": [],
   "source": [
    "def is_significant(x: float):\n",
    "    return abs(x) > 1e-9\n",
    "\n",
    "def is_fractional_part_significant(x: float):\n",
    "    return is_significant(x - round(x))\n",
    "\n",
    "# Takes float number\n",
    "# Returns recognized/not, numerator, denominator\n",
    "# Sign is in the numerator\n",
    "def recognize_nice_rational(x: float):\n",
    "    for denominator in range(1, 31):\n",
    "        # TODO: Optimize this. Consider squares of roots in the denominator.\n",
    "        numerator: float = x * float(denominator)\n",
    "        if not is_fractional_part_significant(numerator):\n",
    "            return True, int(round(numerator)), denominator\n",
    "    return False, 0, 1\n",
    "\n",
    "# Takes float number\n",
    "# Returns recognized/not, numerator, denominator, root\n",
    "# Sign is in the numerator\n",
    "roots = [1, 2, 3, 5, 6, 7, 10, 11, 13, 14, 15, 17, 19, 21, 22, 23, 26, 29, 30]\n",
    "def recognize_nice_algebraic(x: float):\n",
    "    for root in roots:\n",
    "        # TODO: Optimize this. In practice we don't really need anything beyond 1, √2, √3, √5, √6.\n",
    "        by_root = x / math.sqrt(root)\n",
    "        (is_rational, numerator, denominator) = recognize_nice_rational(by_root)\n",
    "        if is_rational:\n",
    "            return True, numerator, denominator, root\n",
    "    return False, 0, 1, 0\n",
    "\n",
    "# Takes real and imaginary part of a complex number\n",
    "# returns recognized/not, magnitude_num, magnitude_den, pi_num, pi_den\n",
    "# Always returns positive magnitude\n",
    "# Return angles in [-1, 1] * pi, sign is in the pi_num\n",
    "pi_fractions = [(1, 3), (2, 3), (1, 4), (3, 4), (1, 8), (3, 8), (5, 8), (7, 8)]\n",
    "def recognize_nice_exponent(re: float, im: float):\n",
    "    #print(f\"re={re}, im={im}\")\n",
    "    for (pi_num, pi_den) in pi_fractions:\n",
    "        angle: float = math.pi*float(pi_num)/float(pi_den);\n",
    "        s: float = math.sin(angle)\n",
    "        c: float = math.cos(angle)\n",
    "        if not is_significant(re/c - im/s):\n",
    "            #print(f\"pi_num={pi_num}, pi_den={pi_den}\")\n",
    "            # It's OK to take abs value as we are only interested in magnitude\n",
    "            (success, mag_num, mag_den) = recognize_nice_rational(abs(re/c))\n",
    "            #print(f\"s={s}, c={c}, success={success}, numerator={magnitude_num}, denominator={magnitude_den}\")\n",
    "            if success:\n",
    "                if im > 0:\n",
    "                    return True, mag_num, mag_den, pi_num, pi_den\n",
    "                else:\n",
    "                    return True, mag_num, mag_den, pi_num-pi_den, pi_den\n",
    "    return False, 0, 1, 0, 1\n",
    "\n",
    "def get_latex_for_decimal(x: float):\n",
    "    return f\"{x}\"\n",
    "\n",
    "def get_latex_for_algebraic(numerator: int, denominator: int, root: int, needs_1: bool):\n",
    "    if denominator != 1:\n",
    "        needs_1 = True\n",
    "\n",
    "    latex = \"\"\n",
    "    if root == 1:\n",
    "        if numerator == 1:\n",
    "            if needs_1:\n",
    "                latex = \"1\"\n",
    "        else:\n",
    "            latex = f\"{numerator}\"\n",
    "    else:\n",
    "        if numerator == 1:\n",
    "            latex = f\"\\\\sqrt{{{root}}}\"\n",
    "        else:\n",
    "            latex = f\"{numerator} \\\\sqrt{{{root}}}\"\n",
    "\n",
    "    if denominator != 1:\n",
    "        latex = f\"\\\\frac{{{latex}}}{{{denominator}}}\"\n",
    "    return latex\n",
    "\n",
    "def get_latex_for_exponent(pi_num: int, pi_den: int):\n",
    "    latex = \"e^{{\"\n",
    "    abs_pi_num: int = pi_num\n",
    "    if pi_num < 0:\n",
    "        abs_pi_num = - pi_num\n",
    "        latex += \"-\"\n",
    "    if abs_pi_num != 1:\n",
    "        latex += f\"{abs_pi_num}\"\n",
    "    latex += \" i \\\\pi \"\n",
    "    if pi_den != 1:\n",
    "        latex += f\" / {pi_den}\"\n",
    "    latex += \"}}\"\n",
    "    return latex\n",
    "\n",
    "def get_latex_for_exponent_coefficient(mag_num: int, mag_den: int, pi_num: int, pi_den: int, needs_plus: bool):\n",
    "    latex = \"\"\n",
    "    if needs_plus:\n",
    "        latex += \"+\"\n",
    "    latex += get_latex_for_algebraic(mag_num, mag_den, 1, False)\n",
    "    latex += get_latex_for_exponent(pi_num, pi_den)\n",
    "    return latex;\n",
    "    \n",
    "def display_state_latex(dump: qsharp.StateDump):\n",
    "    dict = dump.get_dict()\n",
    "    rows = list(dict.items())\n",
    "\n",
    "    state_latex = \"\"\n",
    "    term_number = 0\n",
    "    for row in rows:\n",
    "        [state, [real, imag]] = row\n",
    "\n",
    "        real_significant = is_significant(real)\n",
    "        imag_significant = is_significant(imag)\n",
    "        if (not real_significant and not imag_significant):\n",
    "            continue\n",
    "        term_number += 1\n",
    "\n",
    "        if real_significant:\n",
    "            if imag_significant:\n",
    "                # both real and imaginary amplitude\n",
    "                (is_exponent, mag_num, mag_den, pi_num, pi_den) = recognize_nice_exponent(real, imag);\n",
    "                if is_exponent:\n",
    "                    state_latex += get_latex_for_exponent_coefficient(mag_num, mag_den, pi_num, pi_den, term_number > 1)\n",
    "                else:\n",
    "                    (is_algebraic1, numerator1, denominator1, root1) = recognize_nice_algebraic(abs(real))\n",
    "                    (is_algebraic2, numerator2, denominator2, root2) = recognize_nice_algebraic(abs(imag))\n",
    "                    if is_algebraic1:\n",
    "\n",
    "                    else:\n",
    "\n",
    "\n",
    "\n",
    "                    (is_positive1, latex1) = recognize_nice_algebraic(real, True)\n",
    "                    (is_positive2, latex2) = recognize_nice_algebraic(imag, False)\n",
    "                    if not is_positive1:\n",
    "                        state_latex += \"-\"\n",
    "                    elif term_number > 1:\n",
    "                        state_latex += \"+\"\n",
    "                    imag_sign = \"+\" if is_positive1 == is_positive2 else \"-\"\n",
    "                    state_latex += f\"\\\\left( {latex1} {imag_sign} {latex2}i \\\\right)\"\n",
    "            else:\n",
    "                # only real amplitude\n",
    "                (is_algebraic, numerator, denominator, root) = recognize_nice_algebraic(abs(real))\n",
    "                if is_algebraic:\n",
    "                    latex = get_latex_for_algebraic(numerator, denominator, root, False)\n",
    "                else:\n",
    "                    latex = get_latex_for_decimal(abs(real))\n",
    "                if real < 0:\n",
    "                    state_latex += \"-\"\n",
    "                elif term_number > 1:\n",
    "                    state_latex += \"+\"\n",
    "                state_latex += f\"{latex} \\\\ \"\n",
    "        else:\n",
    "            # only imaginary amplitude\n",
    "            (is_algebraic, numerator, denominator, root) = recognize_nice_algebraic(abs(imag))\n",
    "            if is_algebraic:\n",
    "                latex = get_latex_for_algebraic(numerator, denominator, root, False)\n",
    "            else:\n",
    "                latex = get_latex_for_decimal(abs(imag))\n",
    "            if imag < 0:\n",
    "                state_latex += \"-\"\n",
    "            elif term_number > 1:\n",
    "                state_latex += \"+\"\n",
    "            state_latex += f\"{latex}i \\\\ \"\n",
    "\n",
    "        state_latex += f\"|\\\\boldsymbol{{{state}}}\\\\rangle\"\n",
    "            \n",
    "    #print(state_latex)\n",
    "    display(Latex(f\"$|\\\\boldsymbol{{\\\\psi}}\\\\rangle = {state_latex}$\"))\n",
    "\n",
    "# TODO\n",
    "# Normalization coefficient can be common\n",
    "# State label better be in binary\n",
    "# Recognize separable states\n",
    "# Recongnize well-known states: |0> |1> |+> |-> |Bell> |CATn>\n"
   ]
  },
  {
   "cell_type": "code",
   "execution_count": 5,
   "metadata": {
    "vscode": {
     "languageId": "qsharp"
    }
   },
   "outputs": [],
   "source": [
    "%%qsharp\n",
    "use q = Qubit();\n",
    "X(q);\n",
    "T(q);"
   ]
  },
  {
   "cell_type": "code",
   "execution_count": 15,
   "metadata": {
    "vscode": {
     "languageId": "qsharp"
    }
   },
   "outputs": [],
   "source": [
    "%%qsharp\n",
    "Adjoint T(q);"
   ]
  },
  {
   "cell_type": "code",
   "execution_count": 4,
   "metadata": {
    "vscode": {
     "languageId": "qsharp"
    }
   },
   "outputs": [],
   "source": [
    "%%qsharp\n",
    "use q = Qubit();\n",
    "X(q);\n",
    "H(q);"
   ]
  },
  {
   "cell_type": "code",
   "execution_count": 3,
   "metadata": {
    "vscode": {
     "languageId": "qsharp"
    }
   },
   "outputs": [],
   "source": [
    "%%qsharp\n",
    "\n",
    "use qs = Qubit[2];\n",
    "H(qs[0]);\n",
    "CNOT(qs[0], qs[1]);"
   ]
  },
  {
   "cell_type": "code",
   "execution_count": 3,
   "metadata": {
    "vscode": {
     "languageId": "qsharp"
    }
   },
   "outputs": [],
   "source": [
    "%%qsharp\n",
    "\n",
    "use q = Qubit();\n",
    "H(q);\n",
    "X(q);\n",
    "Z(q);\n",
    "Y(q);"
   ]
  },
  {
   "cell_type": "code",
   "execution_count": 4,
   "metadata": {
    "vscode": {
     "languageId": "qsharp"
    }
   },
   "outputs": [],
   "source": [
    "%%qsharp\n",
    "\n",
    "use qs = Qubit[2];\n",
    "H(qs[0]);\n",
    "H(qs[1]);\n",
    "S(qs[0]);\n",
    "T(qs[1]);\n",
    "\n",
    "// Input: A two-qubit system in the basis state |00>\n",
    "// Goal: Transform the system into the state\n",
    "// 1/2 (|00> + e^(i𝜋/4)|01> + e^(i𝜋/2)|10> + e^(3i𝜋/4)|11>)\n"
   ]
  },
  {
   "cell_type": "code",
   "execution_count": 4,
   "metadata": {
    "vscode": {
     "languageId": "qsharp"
    }
   },
   "outputs": [],
   "source": [
    "%%qsharp\n",
    "\n",
    "use qs = Qubit[2];\n",
    "H(qs[0])\n",
    "CNOT(qs[0], qs[1]);\n",
    "\n",
    "//ResetAll(qs)\n",
    "\n",
    "X(qs[1]);\n",
    "\n",
    "X(qs[0]);\n",
    "//X(qs[1]);\n",
    "RFrac(PauliZ, 7, 3, qs[0])\n"
   ]
  },
  {
   "cell_type": "code",
   "execution_count": 5,
   "metadata": {
    "vscode": {
     "languageId": "qsharp"
    }
   },
   "outputs": [],
   "source": [
    "%%qsharp\n",
    "use q = Qubit[7];\n",
    "H(q[0]);\n",
    "H(q[1]);\n",
    "H(q[3]);\n",
    "CX(q[0], q[2]);\n",
    "CX(q[0], q[4]);\n",
    "CX(q[0], q[6]);\n",
    "CX(q[1], q[2]);\n",
    "CX(q[1], q[5]);\n",
    "CX(q[1], q[6]);\n",
    "CX(q[3], q[4]);\n",
    "CX(q[3], q[5]);\n",
    "CX(q[3], q[6]);"
   ]
  },
  {
   "cell_type": "code",
   "execution_count": 14,
   "metadata": {
    "vscode": {
     "languageId": "qsharp"
    }
   },
   "outputs": [],
   "source": [
    "%%qsharp\n",
    "Z(q[0])"
   ]
  },
  {
   "cell_type": "code",
   "execution_count": 4,
   "metadata": {},
   "outputs": [
    {
     "data": {
      "text/html": [
       "<table>\n",
       "  <thead>\n",
       "    <tr>\n",
       "      <th style=\"text-align: left\">Basis State<br />(|𝜓₁…𝜓ₙ⟩)</th>\n",
       "      <th style=\"text-align: left\">Amplitude</th>\n",
       "      <th style=\"text-align: left\">Measurement Probability</th>\n",
       "      <th style=\"text-align: left\" colspan=\"2\">Phase</th>\n",
       "    </tr>\n",
       "  </thead>\n",
       "  <tbody>\n",
       "    <tr>\n",
       "  <td style=\"text-align: left\">\n",
       "    <span style=\"display: inline-block\">|00⟩</span>\n",
       "  </td>\n",
       "  <td style=\"text-align: left\">\n",
       "    <span style=\"display: inline-block\">0.7071+0.0000𝑖</span>\n",
       "  </td>\n",
       "  <td style=\"text-align: left\">\n",
       "    <progress max=\"100\" value=\"50.000000000000014\"></progress>\n",
       "    <span style=\"display: inline-block\">50.0000%</span>\n",
       "  </td>\n",
       "  <td style=\"text-align: left; transform: rotate(0.0000rad)\">↑</td>\n",
       "  <td style=\"text-align: left\">\n",
       "    <span style=\"display: inline-block\">0.0000</span>\n",
       "  </td>\n",
       "</tr>\n",
       "<tr>\n",
       "  <td style=\"text-align: left\">\n",
       "    <span style=\"display: inline-block\">|11⟩</span>\n",
       "  </td>\n",
       "  <td style=\"text-align: left\">\n",
       "    <span style=\"display: inline-block\">0.7071+0.0000𝑖</span>\n",
       "  </td>\n",
       "  <td style=\"text-align: left\">\n",
       "    <progress max=\"100\" value=\"50.000000000000014\"></progress>\n",
       "    <span style=\"display: inline-block\">50.0000%</span>\n",
       "  </td>\n",
       "  <td style=\"text-align: left; transform: rotate(0.0000rad)\">↑</td>\n",
       "  <td style=\"text-align: left\">\n",
       "    <span style=\"display: inline-block\">0.0000</span>\n",
       "  </td>\n",
       "</tr>\n",
       "\n",
       "  </tbody>\n",
       "</table>\n"
      ],
      "text/plain": [
       "STATE:\n",
       "|00⟩: 0.7071+0.0000𝑖\n",
       "|11⟩: 0.7071+0.0000𝑖"
      ]
     },
     "metadata": {},
     "output_type": "display_data"
    },
    {
     "data": {
      "text/latex": [
       "$|\\boldsymbol{\\psi}\\rangle = \\frac{\\sqrt{2}}{2} \\ |\\boldsymbol{0}\\rangle+\\frac{\\sqrt{2}}{2} \\ |\\boldsymbol{3}\\rangle$"
      ],
      "text/plain": [
       "<IPython.core.display.Latex object>"
      ]
     },
     "metadata": {},
     "output_type": "display_data"
    }
   ],
   "source": [
    "dump = qsharp.dump_machine()\n",
    "display(dump)\n",
    "display_state_latex(dump)\n"
   ]
  }
 ],
 "metadata": {
  "kernelspec": {
   "display_name": "Python 3",
   "language": "python",
   "name": "python3"
  },
  "language_info": {
   "codemirror_mode": {
    "name": "ipython",
    "version": 3
   },
   "file_extension": ".py",
   "mimetype": "text/x-python",
   "name": "python",
   "nbconvert_exporter": "python",
   "pygments_lexer": "ipython3",
   "version": "3.11.8"
  }
 },
 "nbformat": 4,
 "nbformat_minor": 2
}
