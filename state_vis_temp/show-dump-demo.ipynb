{
 "cells": [
  {
   "cell_type": "code",
   "execution_count": null,
   "metadata": {},
   "outputs": [],
   "source": [
    "import qsharp\n",
    "from IPython.display import Latex\n",
    "import math"
   ]
  },
  {
   "cell_type": "code",
   "execution_count": 2,
   "metadata": {},
   "outputs": [],
   "source": [
    "# Ugly python code here\n",
    "\n",
    "def is_significant(x: float):\n",
    "    return abs(x) > 1e-9\n",
    "\n",
    "def is_fractional_part_significant(x: float):\n",
    "    return is_significant(x - round(x))\n",
    "\n",
    "def recognize_nice_rational(x: float):\n",
    "    for denominator in range(1, 31):\n",
    "        numerator: float = x * float(denominator)\n",
    "        if not is_fractional_part_significant(numerator):\n",
    "            return True, int(round(numerator)), denominator\n",
    "    return False, 0, 1\n",
    "\n",
    "def get_latex_for_algebraic(numerator: int, denominator: int, root: int, needs_1: bool):\n",
    "    if denominator != 1:\n",
    "        needs_1 = True\n",
    "\n",
    "    latex = \"\"\n",
    "    if root == 1:\n",
    "        if numerator == 1:\n",
    "            if needs_1:\n",
    "                latex = 1\n",
    "        else:\n",
    "            latex = f\"{numerator}\"\n",
    "    else:\n",
    "        if numerator == 1:\n",
    "            latex = f\"\\\\sqrt{{{root}}}\"\n",
    "        else:\n",
    "            latex = f\"{numerator} \\\\sqrt{{{root}}}\"\n",
    "\n",
    "    if denominator != 1:\n",
    "        latex = f\"\\\\frac{{{latex}}}{{{denominator}}}\"\n",
    "    return latex\n",
    "\n",
    "def recognize_nice_algebraic(x: float, needs_1: bool):\n",
    "    is_positive: bool = x > 0\n",
    "    if not is_positive:\n",
    "        x = -x\n",
    "    for root in [1, 2, 3, 5, 6, 7, 10, 11, 13, 14, 15, 17, 19, 21, 22, 23, 26, 29, 30]:\n",
    "        by_root = x / math.sqrt(root)\n",
    "        (is_rational, numerator, denominator) = recognize_nice_rational(by_root)\n",
    "        if is_rational:\n",
    "            return is_positive, get_latex_for_algebraic(numerator, denominator, root, needs_1)\n",
    "    return is_positive, f\"{x}\"\n",
    "\n",
    "def display_state_latex(dump: qsharp.StateDump):\n",
    "    dict = dump.get_dict()\n",
    "    rows = list(dict.items())\n",
    "\n",
    "    state_latex = \"\"\n",
    "    term_number = 0\n",
    "    for row in rows:\n",
    "        [state, [real, imag]] = row\n",
    "\n",
    "        real_significant = is_significant(real)\n",
    "        imag_significant = is_significant(imag)\n",
    "        if (not real_significant and not imag_significant):\n",
    "            continue\n",
    "        term_number += 1\n",
    "\n",
    "        if real_significant:\n",
    "            if imag_significant:\n",
    "                # both real and imaginary amplitude\n",
    "                (is_positive1, latex1) = recognize_nice_algebraic(real, True)\n",
    "                (is_positive2, latex2) = recognize_nice_algebraic(imag, False)\n",
    "                if not is_positive1:\n",
    "                    state_latex += \"-\"\n",
    "                elif term_number > 1:\n",
    "                    state_latex += \"+\"\n",
    "                imag_sign = \"+\" if is_positive1 == is_positive2 else \"-\"\n",
    "                state_latex += f\"\\\\left( {latex1} {imag_sign} {latex2}i \\\\right)\"\n",
    "            else:\n",
    "                # only real amplitude\n",
    "                (is_positive, latex) = recognize_nice_algebraic(real, False)\n",
    "                if not is_positive:\n",
    "                    state_latex += \"-\"\n",
    "                elif term_number > 1:\n",
    "                    state_latex += \"+\"\n",
    "                state_latex += f\"{latex} \\\\ \"\n",
    "        else:\n",
    "            # only imaginary amplitude\n",
    "            (is_positive, latex) = recognize_nice_algebraic(imag, False)\n",
    "            if not is_positive:\n",
    "                state_latex += \"-\"\n",
    "            elif term_number > 1:\n",
    "                state_latex += \"+\"\n",
    "            state_latex += f\"{latex}i \\\\ \"\n",
    "\n",
    "        state_latex += f\"|\\\\boldsymbol{{{state}}}\\\\rangle\"\n",
    "            \n",
    "    #print(state_latex)\n",
    "    display(Latex(f\"$|\\\\boldsymbol{{\\\\psi}}\\\\rangle = {state_latex}$\"))\n"
   ]
  },
  {
   "cell_type": "code",
   "execution_count": 3,
   "metadata": {
    "vscode": {
     "languageId": "qsharp"
    }
   },
   "outputs": [],
   "source": [
    "%%qsharp\n",
    "\n",
    "use qs = Qubit[2];\n",
    "H(qs[0]);\n",
    "CNOT(qs[0], qs[1]);"
   ]
  },
  {
   "cell_type": "code",
   "execution_count": null,
   "metadata": {},
   "outputs": [],
   "source": [
    "dump = qsharp.dump_machine()\n",
    "display(dump)\n",
    "display_state_latex(dump)\n"
   ]
  }
 ],
 "metadata": {
  "kernelspec": {
   "display_name": "Python 3",
   "language": "python",
   "name": "python3"
  },
  "language_info": {
   "codemirror_mode": {
    "name": "ipython",
    "version": 3
   },
   "file_extension": ".py",
   "mimetype": "text/x-python",
   "name": "python",
   "nbconvert_exporter": "python",
   "pygments_lexer": "ipython3",
   "version": "3.11.7"
  }
 },
 "nbformat": 4,
 "nbformat_minor": 2
}
